{
 "cells": [
  {
   "cell_type": "code",
   "execution_count": 9,
   "id": "d0c3a3f8",
   "metadata": {},
   "outputs": [],
   "source": [
    "from sqlalchemy import create_engine\n",
    "from sqlalchemy.ext.declarative import declarative_base\n",
    "from sqlalchemy import Column, Integer, String, Float"
   ]
  },
  {
   "cell_type": "code",
   "execution_count": 10,
   "id": "2eb6216b",
   "metadata": {},
   "outputs": [],
   "source": [
    "Base = declarative_base()"
   ]
  },
  {
   "cell_type": "code",
   "execution_count": 11,
   "id": "a800c9a0",
   "metadata": {},
   "outputs": [],
   "source": [
    "class Plant(Base):\n",
    "    __tablename__ = 'plants'\n",
    "    id = Column(Integer, primary_key=True)\n",
    "    common_name = Column(String(100))\n",
    "    sci_name = Column(String(100))\n",
    "    origin = Column(String(100))\n",
    "    temperature = Column(String(255))\n",
    "    image_url = Column(String(255))"
   ]
  },
  {
   "cell_type": "code",
   "execution_count": null,
   "id": "d6382a5b",
   "metadata": {},
   "outputs": [],
   "source": [
    "#Create db connection\n",
    "engine = create_engine(\"sqlite:///plants.sqlite\")\n",
    "conn = engine.connect()"
   ]
  },
  {
   "cell_type": "code",
   "execution_count": null,
   "id": "be8b5406",
   "metadata": {},
   "outputs": [],
   "source": [
    "#creates tables from python classes\n",
    "Base.metadata.create_all(engine)"
   ]
  },
  {
   "cell_type": "code",
   "execution_count": null,
   "id": "93324d25",
   "metadata": {},
   "outputs": [],
   "source": [
    "#create connection to edit db\n",
    "from sqlalchemy.orm import Session\n",
    "session = Session(bind=engine)"
   ]
  },
  {
   "cell_type": "code",
   "execution_count": null,
   "id": "d7a8e2e6",
   "metadata": {},
   "outputs": [],
   "source": [
    "#for loop this with scraped data to add to db?\n",
    "for x in plant_scrape:\n",
    "    plant = session.add(Plant(common_name=plant_scrape[x]['name'],sci_name=plant_scrape[x]['sciname'], origin=plant_scrape[x]['origin'], temperature=plant_scrape[x]['temp'], image_url=plant_scrape[x]['url']))\n",
    "    session.add(plant)"
   ]
  },
  {
   "cell_type": "code",
   "execution_count": null,
   "id": "02c092cc",
   "metadata": {},
   "outputs": [],
   "source": [
    "#push additions to db\n",
    "session.commit()"
   ]
  },
  {
   "cell_type": "code",
   "execution_count": null,
   "id": "d616a42b",
   "metadata": {},
   "outputs": [],
   "source": [
    "#close session\n",
    "session.close()"
   ]
  }
 ],
 "metadata": {
  "kernelspec": {
   "display_name": "Python [conda env:PythonData] *",
   "language": "python",
   "name": "conda-env-PythonData-py"
  },
  "language_info": {
   "codemirror_mode": {
    "name": "ipython",
    "version": 3
   },
   "file_extension": ".py",
   "mimetype": "text/x-python",
   "name": "python",
   "nbconvert_exporter": "python",
   "pygments_lexer": "ipython3",
   "version": "3.8.11"
  }
 },
 "nbformat": 4,
 "nbformat_minor": 5
}
