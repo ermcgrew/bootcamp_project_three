{
 "cells": [
  {
   "cell_type": "code",
   "execution_count": 1,
   "id": "27b48682",
   "metadata": {},
   "outputs": [],
   "source": [
    "import pandas as pd\n"
   ]
  },
  {
   "cell_type": "code",
   "execution_count": 2,
   "id": "2fbd151b",
   "metadata": {},
   "outputs": [],
   "source": [
    "#Store list as a variable\n",
    "plant_data = \"Plant CSV/plant_list.csv\"\n"
   ]
  },
  {
   "cell_type": "code",
   "execution_count": 3,
   "id": "a23df9eb",
   "metadata": {},
   "outputs": [],
   "source": [
    "#read csv\n",
    "plant_data_df = pd.read_csv(plant_data)"
   ]
  },
  {
   "cell_type": "code",
   "execution_count": null,
   "id": "82ee5b5f",
   "metadata": {},
   "outputs": [],
   "source": []
  },
  {
   "cell_type": "code",
   "execution_count": 4,
   "id": "c2ecede4",
   "metadata": {},
   "outputs": [
    {
     "data": {
      "text/html": [
       "<div>\n",
       "<style scoped>\n",
       "    .dataframe tbody tr th:only-of-type {\n",
       "        vertical-align: middle;\n",
       "    }\n",
       "\n",
       "    .dataframe tbody tr th {\n",
       "        vertical-align: top;\n",
       "    }\n",
       "\n",
       "    .dataframe thead th {\n",
       "        text-align: right;\n",
       "    }\n",
       "</style>\n",
       "<table border=\"1\" class=\"dataframe\">\n",
       "  <thead>\n",
       "    <tr style=\"text-align: right;\">\n",
       "      <th></th>\n",
       "      <th>Unnamed: 0</th>\n",
       "      <th>origin</th>\n",
       "      <th>Common Name</th>\n",
       "      <th>scientific_name</th>\n",
       "      <th>Poisonous_for_pets</th>\n",
       "      <th>Toxic Cats</th>\n",
       "      <th>Toxic Dogs</th>\n",
       "    </tr>\n",
       "  </thead>\n",
       "  <tbody>\n",
       "    <tr>\n",
       "      <th>0</th>\n",
       "      <td>0</td>\n",
       "      <td>South America</td>\n",
       "      <td>Amaryllis</td>\n",
       "      <td>Hippeastrum</td>\n",
       "      <td>Toxic to cats and dogs.</td>\n",
       "      <td>Yes</td>\n",
       "      <td>Yes</td>\n",
       "    </tr>\n",
       "    <tr>\n",
       "      <th>1</th>\n",
       "      <td>1</td>\n",
       "      <td>Eastern Africa</td>\n",
       "      <td>African violet</td>\n",
       "      <td>Saintpaulia</td>\n",
       "      <td>Non toxic dogs and cats.</td>\n",
       "      <td>no</td>\n",
       "      <td>no</td>\n",
       "    </tr>\n",
       "    <tr>\n",
       "      <th>2</th>\n",
       "      <td>2</td>\n",
       "      <td>South America</td>\n",
       "      <td>Angel wing begonia</td>\n",
       "      <td>Begonia coccinea</td>\n",
       "      <td>Toxic for cats and dogs.</td>\n",
       "      <td>Yes</td>\n",
       "      <td>Yes</td>\n",
       "    </tr>\n",
       "    <tr>\n",
       "      <th>3</th>\n",
       "      <td>3</td>\n",
       "      <td>Southern Africa</td>\n",
       "      <td>Barberton, Gerbera, Transvaal Daisy</td>\n",
       "      <td>Gebera Jamesonii</td>\n",
       "      <td>Non toxic for cats, dogs and horses.</td>\n",
       "      <td>no</td>\n",
       "      <td>no</td>\n",
       "    </tr>\n",
       "    <tr>\n",
       "      <th>4</th>\n",
       "      <td>4</td>\n",
       "      <td>Central America, Mexico</td>\n",
       "      <td>Spider Lily</td>\n",
       "      <td>Hymenocallis littoralis</td>\n",
       "      <td>No.</td>\n",
       "      <td>no</td>\n",
       "      <td>no</td>\n",
       "    </tr>\n",
       "  </tbody>\n",
       "</table>\n",
       "</div>"
      ],
      "text/plain": [
       "   Unnamed: 0                   origin                          Common Name  \\\n",
       "0           0            South America                            Amaryllis   \n",
       "1           1           Eastern Africa                       African violet   \n",
       "2           2            South America                   Angel wing begonia   \n",
       "3           3          Southern Africa  Barberton, Gerbera, Transvaal Daisy   \n",
       "4           4  Central America, Mexico                          Spider Lily   \n",
       "\n",
       "            scientific_name                    Poisonous_for_pets Toxic Cats  \\\n",
       "0               Hippeastrum               Toxic to cats and dogs.        Yes   \n",
       "1               Saintpaulia              Non toxic dogs and cats.         no   \n",
       "2          Begonia coccinea              Toxic for cats and dogs.        Yes   \n",
       "3          Gebera Jamesonii  Non toxic for cats, dogs and horses.         no   \n",
       "4   Hymenocallis littoralis                                   No.         no   \n",
       "\n",
       "  Toxic Dogs  \n",
       "0        Yes  \n",
       "1         no  \n",
       "2        Yes  \n",
       "3         no  \n",
       "4         no  "
      ]
     },
     "execution_count": 4,
     "metadata": {},
     "output_type": "execute_result"
    }
   ],
   "source": [
    "#Check the columns\n",
    "plant_data_df.head()"
   ]
  },
  {
   "cell_type": "code",
   "execution_count": 5,
   "id": "32ffa152",
   "metadata": {},
   "outputs": [],
   "source": [
    "#Drop extra columns\n",
    "del plant_data_df[\"origin\"]"
   ]
  },
  {
   "cell_type": "code",
   "execution_count": 6,
   "id": "0e630ede",
   "metadata": {},
   "outputs": [],
   "source": [
    "del plant_data_df[\"scientific_name\"]"
   ]
  },
  {
   "cell_type": "code",
   "execution_count": 7,
   "id": "0e597932",
   "metadata": {},
   "outputs": [],
   "source": [
    "del plant_data_df[\"Unnamed: 0\"]"
   ]
  },
  {
   "cell_type": "code",
   "execution_count": 8,
   "id": "cb427033",
   "metadata": {},
   "outputs": [],
   "source": [
    "del plant_data_df[\"Poisonous_for_pets\"]"
   ]
  },
  {
   "cell_type": "code",
   "execution_count": 9,
   "id": "55d75bac",
   "metadata": {},
   "outputs": [
    {
     "data": {
      "text/html": [
       "<div>\n",
       "<style scoped>\n",
       "    .dataframe tbody tr th:only-of-type {\n",
       "        vertical-align: middle;\n",
       "    }\n",
       "\n",
       "    .dataframe tbody tr th {\n",
       "        vertical-align: top;\n",
       "    }\n",
       "\n",
       "    .dataframe thead th {\n",
       "        text-align: right;\n",
       "    }\n",
       "</style>\n",
       "<table border=\"1\" class=\"dataframe\">\n",
       "  <thead>\n",
       "    <tr style=\"text-align: right;\">\n",
       "      <th></th>\n",
       "      <th>Common Name</th>\n",
       "      <th>Toxic Cats</th>\n",
       "      <th>Toxic Dogs</th>\n",
       "    </tr>\n",
       "  </thead>\n",
       "  <tbody>\n",
       "    <tr>\n",
       "      <th>0</th>\n",
       "      <td>Amaryllis</td>\n",
       "      <td>Yes</td>\n",
       "      <td>Yes</td>\n",
       "    </tr>\n",
       "    <tr>\n",
       "      <th>1</th>\n",
       "      <td>African violet</td>\n",
       "      <td>no</td>\n",
       "      <td>no</td>\n",
       "    </tr>\n",
       "    <tr>\n",
       "      <th>2</th>\n",
       "      <td>Angel wing begonia</td>\n",
       "      <td>Yes</td>\n",
       "      <td>Yes</td>\n",
       "    </tr>\n",
       "    <tr>\n",
       "      <th>3</th>\n",
       "      <td>Barberton, Gerbera, Transvaal Daisy</td>\n",
       "      <td>no</td>\n",
       "      <td>no</td>\n",
       "    </tr>\n",
       "    <tr>\n",
       "      <th>4</th>\n",
       "      <td>Spider Lily</td>\n",
       "      <td>no</td>\n",
       "      <td>no</td>\n",
       "    </tr>\n",
       "  </tbody>\n",
       "</table>\n",
       "</div>"
      ],
      "text/plain": [
       "                           Common Name Toxic Cats Toxic Dogs\n",
       "0                            Amaryllis        Yes        Yes\n",
       "1                       African violet         no         no\n",
       "2                   Angel wing begonia        Yes        Yes\n",
       "3  Barberton, Gerbera, Transvaal Daisy         no         no\n",
       "4                          Spider Lily         no         no"
      ]
     },
     "execution_count": 9,
     "metadata": {},
     "output_type": "execute_result"
    }
   ],
   "source": [
    "plant_data_df.head()"
   ]
  },
  {
   "cell_type": "code",
   "execution_count": 10,
   "id": "9f225b25",
   "metadata": {},
   "outputs": [],
   "source": [
    "toxic_df = plant_data_df"
   ]
  },
  {
   "cell_type": "code",
   "execution_count": 12,
   "id": "c2c87696",
   "metadata": {},
   "outputs": [],
   "source": [
    "toxic_df.to_csv(\"toxic.csv\")"
   ]
  },
  {
   "cell_type": "code",
   "execution_count": null,
   "id": "b992794c",
   "metadata": {},
   "outputs": [],
   "source": [
    "toxic_df.hist()"
   ]
  }
 ],
 "metadata": {
  "kernelspec": {
   "display_name": "Python [conda env:PythonData]",
   "language": "python",
   "name": "conda-env-PythonData-py"
  },
  "language_info": {
   "codemirror_mode": {
    "name": "ipython",
    "version": 3
   },
   "file_extension": ".py",
   "mimetype": "text/x-python",
   "name": "python",
   "nbconvert_exporter": "python",
   "pygments_lexer": "ipython3",
   "version": "3.8.11"
  }
 },
 "nbformat": 4,
 "nbformat_minor": 5
}
